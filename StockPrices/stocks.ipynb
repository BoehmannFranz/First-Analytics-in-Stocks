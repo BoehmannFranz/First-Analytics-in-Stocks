{
 "metadata": {
  "language_info": {
   "codemirror_mode": {
    "name": "ipython",
    "version": 3
   },
   "file_extension": ".py",
   "mimetype": "text/x-python",
   "name": "python",
   "nbconvert_exporter": "python",
   "pygments_lexer": "ipython3",
   "version": 3
  },
  "orig_nbformat": 2,
  "kernelspec": {
   "name": "python_defaultSpec_1595665161571",
   "display_name": "Python 3.7.7 64-bit ('stocks': conda)"
  }
 },
 "nbformat": 4,
 "nbformat_minor": 2,
 "cells": [
  {
   "cell_type": "code",
   "execution_count": 87,
   "metadata": {
    "tags": []
   },
   "outputs": [
    {
     "output_type": "stream",
     "name": "stdout",
     "text": "46.20000076293945\n249.0\n"
    }
   ],
   "source": [
    "# conda activate stocks \n",
    "\n",
    "import datetime as dt \n",
    "# import matplotlib.pyplot as plt \n",
    "# from matplotlib import style \n",
    "import pandas as pd \n",
    "from yahoo_fin import stock_info as si\n",
    "\n",
    " \n",
    "\n",
    "# Nasaq Kurs Daimler = ddaif\n",
    "print(si.get_live_price(\"ddaif\"))\n",
    "print(si.get_live_price(\"baba\"))\n",
    "stocklist = pd.DataFrame()"
   ]
  },
  {
   "cell_type": "code",
   "execution_count": 88,
   "metadata": {
    "tags": []
   },
   "outputs": [
    {
     "output_type": "stream",
     "name": "stdout",
     "text": "<class 'pandas.core.frame.DataFrame'>\nRangeIndex: 3 entries, 0 to 2\nData columns (total 4 columns):\n #   Column    Non-Null Count  Dtype         \n---  ------    --------------  -----         \n 0   datetime  3 non-null      datetime64[ns]\n 1   otc       3 non-null      object        \n 2   names     3 non-null      object        \n 3   price     3 non-null      float64       \ndtypes: datetime64[ns](1), float64(1), object(2)\nmemory usage: 224.0+ bytes\nNone\n"
    }
   ],
   "source": [
    "import json \n",
    "import datetime\n",
    "\n",
    "df = pd.DataFrame(columns=('datetime','otc', 'names', 'price'))\n",
    "\n",
    "# read shares attributes from json file aktien.json\n",
    "with open('aktien.json', \"r\") as json_file:\n",
    "    data = json.load(json_file)\n",
    "    for key in data:\n",
    "        otc =  key['otc']\n",
    "        name = key['name']\n",
    "        # get life proce via otc request\n",
    "        share_value = si.get_live_price(otc)\n",
    "        df = df.append({'names': name, 'otc': otc, 'datetime': time, 'price': share_value}, ignore_index=True)\n",
    "print(df.info())\n",
    "\n",
    "# es fehlt noch das Datum und der der Aktien Wert\n"
   ]
  },
  {
   "cell_type": "code",
   "execution_count": 90,
   "metadata": {
    "tags": []
   },
   "outputs": [],
   "source": [
    "# Save into csv w=write, a=append\n",
    "df.to_csv(\"stock_values_record.csv\", mode='a', header=False)\n"
   ]
  },
  {
   "cell_type": "code",
   "execution_count": null,
   "metadata": {},
   "outputs": [],
   "source": []
  }
 ]
}