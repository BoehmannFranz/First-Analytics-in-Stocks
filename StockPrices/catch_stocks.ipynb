{
 "metadata": {
  "language_info": {
   "codemirror_mode": {
    "name": "ipython",
    "version": 3
   },
   "file_extension": ".py",
   "mimetype": "text/x-python",
   "name": "python",
   "nbconvert_exporter": "python",
   "pygments_lexer": "ipython3",
   "version": 3
  },
  "orig_nbformat": 2,
  "kernelspec": {
   "name": "python_defaultSpec_1595707172964",
   "display_name": "Python 3.7.7 64-bit ('stocks': conda)"
  }
 },
 "nbformat": 4,
 "nbformat_minor": 2,
 "cells": [
  {
   "cell_type": "code",
   "execution_count": 18,
   "metadata": {
    "tags": []
   },
   "outputs": [
    {
     "output_type": "stream",
     "name": "stdout",
     "text": "<class 'pandas.core.frame.DataFrame'>\nRangeIndex: 3 entries, 0 to 2\nData columns (total 4 columns):\n #   Column    Non-Null Count  Dtype         \n---  ------    --------------  -----         \n 0   datetime  3 non-null      datetime64[ns]\n 1   otc       3 non-null      object        \n 2   names     3 non-null      object        \n 3   price     3 non-null      float64       \ndtypes: datetime64[ns](1), float64(1), object(2)\nmemory usage: 224.0+ bytes\nNone\n                    datetime    otc          names       price\n0 2020-07-25 23:14:17.022537  ddaif        DAIMLER   46.200001\n1 2020-07-25 23:14:17.315370   baba        ALIBABA  249.000000\n2 2020-07-25 23:14:17.490624  tyekf  Thyssen Krupp    8.290000\n"
    }
   ],
   "source": [
    "import json \n",
    "import datetime\n",
    "import pandas as pd \n",
    "\n",
    "df = pd.DataFrame(columns=('datetime','otc', 'names', 'price'))\n",
    "\n",
    "# read shares attributes from json file aktien.json\n",
    "with open('aktien.json', \"r\") as json_file:\n",
    "    data = json.load(json_file)\n",
    "    # parse json for observed shares\n",
    "    for key in data:\n",
    "        otc =  key['otc']\n",
    "        name = key['name']\n",
    "        time = pd.datetime.now()\n",
    "        # get life proce via otc request\n",
    "        share_value = si.get_live_price(otc)\n",
    "        df = df.append({'names': name, 'otc': otc, 'datetime': time, 'price': share_value}, ignore_index=True)\n",
    "        # Save into csv w=write, a=append\n",
    "        df.to_csv(\"stock_values_record.csv\", mode='a', header=False)\n",
    "print(df.info())\n",
    "print(df.head())\n",
    "\n",
    "\n"
   ]
  },
  {
   "cell_type": "markdown",
   "metadata": {},
   "source": [
    "# Todos\n",
    "1. Read aus csv and visualize the every observd share in line graph\n",
    "\\n - done\n",
    "2. what do i need for a format for time series analysis\n",
    "3. what do i need for a values for the ML Array\n",
    "    - focus is to get correlations between shares and price difference over the time\n",
    "    - looking fo companies dependencies\n",
    "4. Which shares do i need for the first ecosystem?\n"
   ]
  },
  {
   "cell_type": "code",
   "execution_count": 19,
   "metadata": {
    "tags": []
   },
   "outputs": [
    {
     "output_type": "stream",
     "name": "stdout",
     "text": "46.20000076293945\n249.0\n"
    }
   ],
   "source": [
    "# conda activate stocks \n",
    "\n",
    "import datetime as dt \n",
    "# import matplotlib.pyplot as plt \n",
    "# from matplotlib import style \n",
    "import pandas as pd \n",
    "from yahoo_fin import stock_info as si\n",
    "\n",
    "\n",
    "# Nasaq Kurs Daimler = ddaif\n",
    "print(si.get_live_price(\"ddaif\"))\n",
    "print(si.get_live_price(\"baba\"))\n",
    "stocklist = pd.DataFrame()"
   ]
  },
  {
   "cell_type": "code",
   "execution_count": 19,
   "metadata": {
    "tags": []
   },
   "outputs": [],
   "source": [
    "\n"
   ]
  }
 ]
}